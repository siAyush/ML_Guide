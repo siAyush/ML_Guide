{
 "cells": [
  {
   "cell_type": "code",
   "execution_count": 33,
   "metadata": {},
   "outputs": [],
   "source": [
    "import numpy as np"
   ]
  },
  {
   "cell_type": "code",
   "execution_count": 34,
   "metadata": {},
   "outputs": [],
   "source": [
    "# compute sigmoid nonlinearity\n",
    "# convert output of sigmoid function to its derivative\n",
    "def sigmoid(x,deriv=False):\n",
    "    if deriv == True:\n",
    "        return x*(1-x)\n",
    "    return 1/(1+np.exp(-x))"
   ]
  },
  {
   "cell_type": "code",
   "execution_count": 35,
   "metadata": {},
   "outputs": [],
   "source": [
    "# data\n",
    "x = np.array([[0,0,1],\n",
    "              [0,1,1],\n",
    "              [1,0,1],\n",
    "              [1,1,1]])\n",
    "                \n",
    "y = np.array([[0],[1],[1],[0]])"
   ]
  },
  {
   "cell_type": "code",
   "execution_count": 36,
   "metadata": {},
   "outputs": [],
   "source": [
    "np.random.seed(1)\n",
    "syn0 = 2*np.random.random((3,4))-1\n",
    "syn1 = 2*np.random.random((4,1))-1\n",
    "# learning rate \n",
    "alpha = 0.01"
   ]
  },
  {
   "cell_type": "code",
   "execution_count": 37,
   "metadata": {},
   "outputs": [
    {
     "name": "stdout",
     "output_type": "stream",
     "text": [
      "Error after 0 iterations:49.64100319027254\n",
      "Error after 10000 iterations:45.74310744419013\n",
      "Error after 20000 iterations:35.9097202563399\n",
      "Error after 30000 iterations:23.935813715897254\n",
      "Error after 40000 iterations:14.30706590133703\n",
      "Error after 50000 iterations:9.859642980892717\n",
      "Error after 60000 iterations:7.595375113677047\n",
      "Error after 70000 iterations:6.259347406132141\n",
      "Error after 80000 iterations:5.380149508578532\n",
      "Error after 90000 iterations:4.755873383867455\n"
     ]
    }
   ],
   "source": [
    "for i in range(100000):\n",
    "    # Feed forward through layers 0, 1, and 2\n",
    "    layer_0 = x\n",
    "    layer_1 = sigmoid(np.dot(layer_0,syn0))\n",
    "    layer_2 = sigmoid(np.dot(layer_1,syn1))\n",
    "    \n",
    "    # calulating delta and errors for each layer\n",
    "    l2_error = (layer_2 - y)\n",
    "    if i%10000 == 0:\n",
    "        print(\"Error after \"+str(i)+\" iterations:\" + str(np.mean(np.abs(l2_error*100))))\n",
    "\n",
    "        \n",
    "    l2_delta = sigmoid(layer_2,deriv=True) * l2_error\n",
    "    l1_error = np.dot(l2_delta,syn1.T)\n",
    "    l1_delta = sigmoid(layer_1,deriv=True) * l1_error\n",
    "    \n",
    "    # updating weights\n",
    "    syn1 -= alpha*np.dot(layer_1.T,l2_delta)\n",
    "    syn0 -= alpha*np.dot(layer_0.T,l1_delta)\n",
    "\n",
    "    "
   ]
  }
 ],
 "metadata": {
  "kernelspec": {
   "display_name": "Python 3",
   "language": "python",
   "name": "python3"
  },
  "language_info": {
   "codemirror_mode": {
    "name": "ipython",
    "version": 3
   },
   "file_extension": ".py",
   "mimetype": "text/x-python",
   "name": "python",
   "nbconvert_exporter": "python",
   "pygments_lexer": "ipython3",
   "version": "3.7.0"
  }
 },
 "nbformat": 4,
 "nbformat_minor": 2
}
